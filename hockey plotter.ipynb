{
 "cells": [
  {
   "cell_type": "code",
   "execution_count": 2,
   "id": "53895b11",
   "metadata": {},
   "outputs": [],
   "source": [
    "import tkinter as tk\n",
    "from tkinter import *\n",
    "from PIL import Image, ImageTk\n",
    "import tkinter.simpledialog\n",
    "import pandas as pd\n",
    "from IPython.display import clear_output\n",
    "import keyboard"
   ]
  },
  {
   "cell_type": "code",
   "execution_count": 12,
   "id": "ddf3242e",
   "metadata": {},
   "outputs": [],
   "source": [
    " df = pd.DataFrame()\n",
    " df2 = pd.DataFrame()\n",
    " n = 0\n",
    "# char = \"\""
   ]
  },
  {
   "cell_type": "code",
   "execution_count": 13,
   "id": "2cb1e879",
   "metadata": {},
   "outputs": [
    {
     "name": "stdout",
     "output_type": "stream",
     "text": [
      "   event  x_coord  y_coord\n",
      "0    9.0     -1.8     15.7\n"
     ]
    }
   ],
   "source": [
    "#def key_pressed(event):\n",
    "    #global char\n",
    "    #char=e.char\n",
    "\n",
    "def left_click(event):\n",
    "    global df,n#,tag\n",
    "    \n",
    "    x = (event.x - 300)/10\n",
    "    y = (1000 - event.y)/10\n",
    "    canvas.create_oval(event.x+3, event.y+3, event.x-3, event.y-3)\n",
    "    n +=1\n",
    "\n",
    "    data = {'event':n,'x_coord':x,'y_coord':y}#,'tag':char}\n",
    "    \n",
    "    df2 = pd.DataFrame.from_dict(data,orient='index').transpose()\n",
    "    df = pd.concat([df,df2])\n",
    "    clear_output(wait=True)\n",
    "    print(df.iloc[-1:,].head())\n",
    "\n",
    "if __name__ == '__main__':\n",
    "\n",
    "    root = tk.Tk()\n",
    "    canvas = tk.Canvas(root, width=\"600\", height=\"1000\")\n",
    "    \n",
    "    File = '/Users/eb/Desktop/pitch diagram.png'\n",
    "    original = Image.open(File)\n",
    "    original = original.resize((600,1000)) #resize image\n",
    "    img = ImageTk.PhotoImage(original)\n",
    "    canvas.create_image(0, 0, image=img, anchor=\"nw\")\n",
    "\n",
    "    canvas.pack()\n",
    "    canvas.bind('<Button-1>', left_click)\n",
    "    #canvas.bind(\"<Key>\",key_pressed)\n",
    "    root.mainloop()"
   ]
  },
  {
   "cell_type": "code",
   "execution_count": 14,
   "id": "ab91cdca",
   "metadata": {},
   "outputs": [
    {
     "data": {
      "text/html": [
       "<div>\n",
       "<style scoped>\n",
       "    .dataframe tbody tr th:only-of-type {\n",
       "        vertical-align: middle;\n",
       "    }\n",
       "\n",
       "    .dataframe tbody tr th {\n",
       "        vertical-align: top;\n",
       "    }\n",
       "\n",
       "    .dataframe thead th {\n",
       "        text-align: right;\n",
       "    }\n",
       "</style>\n",
       "<table border=\"1\" class=\"dataframe\">\n",
       "  <thead>\n",
       "    <tr style=\"text-align: right;\">\n",
       "      <th></th>\n",
       "      <th>event</th>\n",
       "      <th>x_coord</th>\n",
       "      <th>y_coord</th>\n",
       "    </tr>\n",
       "  </thead>\n",
       "  <tbody>\n",
       "    <tr>\n",
       "      <th>0</th>\n",
       "      <td>1.0</td>\n",
       "      <td>1.1</td>\n",
       "      <td>63.8</td>\n",
       "    </tr>\n",
       "    <tr>\n",
       "      <th>0</th>\n",
       "      <td>2.0</td>\n",
       "      <td>14.4</td>\n",
       "      <td>54.0</td>\n",
       "    </tr>\n",
       "    <tr>\n",
       "      <th>0</th>\n",
       "      <td>3.0</td>\n",
       "      <td>12.6</td>\n",
       "      <td>64.8</td>\n",
       "    </tr>\n",
       "    <tr>\n",
       "      <th>0</th>\n",
       "      <td>4.0</td>\n",
       "      <td>8.2</td>\n",
       "      <td>79.7</td>\n",
       "    </tr>\n",
       "    <tr>\n",
       "      <th>0</th>\n",
       "      <td>5.0</td>\n",
       "      <td>-9.3</td>\n",
       "      <td>81.1</td>\n",
       "    </tr>\n",
       "    <tr>\n",
       "      <th>0</th>\n",
       "      <td>6.0</td>\n",
       "      <td>-13.6</td>\n",
       "      <td>58.6</td>\n",
       "    </tr>\n",
       "    <tr>\n",
       "      <th>0</th>\n",
       "      <td>7.0</td>\n",
       "      <td>-19.6</td>\n",
       "      <td>35.0</td>\n",
       "    </tr>\n",
       "    <tr>\n",
       "      <th>0</th>\n",
       "      <td>8.0</td>\n",
       "      <td>-0.6</td>\n",
       "      <td>33.4</td>\n",
       "    </tr>\n",
       "    <tr>\n",
       "      <th>0</th>\n",
       "      <td>9.0</td>\n",
       "      <td>-1.8</td>\n",
       "      <td>15.7</td>\n",
       "    </tr>\n",
       "  </tbody>\n",
       "</table>\n",
       "</div>"
      ],
      "text/plain": [
       "   event  x_coord  y_coord\n",
       "0    1.0      1.1     63.8\n",
       "0    2.0     14.4     54.0\n",
       "0    3.0     12.6     64.8\n",
       "0    4.0      8.2     79.7\n",
       "0    5.0     -9.3     81.1\n",
       "0    6.0    -13.6     58.6\n",
       "0    7.0    -19.6     35.0\n",
       "0    8.0     -0.6     33.4\n",
       "0    9.0     -1.8     15.7"
      ]
     },
     "execution_count": 14,
     "metadata": {},
     "output_type": "execute_result"
    }
   ],
   "source": [
    "df"
   ]
  },
  {
   "cell_type": "code",
   "execution_count": 6,
   "id": "f348c0f2",
   "metadata": {},
   "outputs": [],
   "source": [
    "# # Keyboard module in Python\n",
    "# import keyboard\n",
    "  \n",
    "# # press a to print rk\n",
    "# keyboard.add_hotkey('a', lambda: keyboard.write('Geek'))\n",
    "# keyboard.add_hotkey('ctrl + shift + a', print, args =('you entered', 'hotkey'))\n",
    "  \n",
    "# keyboard.wait('esc')"
   ]
  },
  {
   "cell_type": "code",
   "execution_count": null,
   "id": "178e4733",
   "metadata": {},
   "outputs": [],
   "source": []
  },
  {
   "cell_type": "code",
   "execution_count": null,
   "id": "bc59568a",
   "metadata": {},
   "outputs": [],
   "source": []
  },
  {
   "cell_type": "code",
   "execution_count": null,
   "id": "6a9bdf49",
   "metadata": {},
   "outputs": [],
   "source": []
  }
 ],
 "metadata": {
  "kernelspec": {
   "display_name": "Python 3 (ipykernel)",
   "language": "python",
   "name": "python3"
  },
  "language_info": {
   "codemirror_mode": {
    "name": "ipython",
    "version": 3
   },
   "file_extension": ".py",
   "mimetype": "text/x-python",
   "name": "python",
   "nbconvert_exporter": "python",
   "pygments_lexer": "ipython3",
   "version": "3.9.12"
  }
 },
 "nbformat": 4,
 "nbformat_minor": 5
}
